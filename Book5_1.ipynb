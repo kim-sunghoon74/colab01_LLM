{
  "nbformat": 4,
  "nbformat_minor": 0,
  "metadata": {
    "colab": {
      "provenance": [],
      "gpuType": "T4"
    },
    "kernelspec": {
      "name": "python3",
      "display_name": "Python 3"
    },
    "language_info": {
      "name": "python"
    },
    "accelerator": "GPU"
  },
  "cells": [
    {
      "cell_type": "markdown",
      "source": [
        "#Book5_1"
      ],
      "metadata": {
        "id": "5p4Wrpmwk0hH"
      }
    },
    {
      "cell_type": "markdown",
      "source": [
        "# 실습 5. 파이썬 첫 코딩"
      ],
      "metadata": {
        "id": "xA5vk14mr1ou"
      }
    },
    {
      "cell_type": "code",
      "source": [
        "print(\"\"\"Dear Python\n",
        "\n",
        "Hello AI and LLM!\n",
        "\"\"\")"
      ],
      "metadata": {
        "colab": {
          "base_uri": "https://localhost:8080/"
        },
        "id": "tVvQEaDVr6aB",
        "outputId": "477d8b28-c20c-4127-b556-5f84f97c801d",
        "collapsed": true
      },
      "execution_count": 1,
      "outputs": [
        {
          "output_type": "stream",
          "name": "stdout",
          "text": [
            "Dear Python\n",
            "\n",
            "Hello AI and LLM!\n",
            "\n"
          ]
        }
      ]
    },
    {
      "cell_type": "markdown",
      "source": [
        "# 실습 6. 필기체 숫자 인식"
      ],
      "metadata": {
        "id": "tThGopiskpQf"
      }
    },
    {
      "cell_type": "code",
      "source": [
        "from sklearn.datasets import load_digits\n",
        "import matplotlib.pyplot as plt\n",
        "digit=load_digits()\n",
        "digit.images[0]\n",
        "plt.matshow(digit.images[0])\n",
        "plt.show()"
      ],
      "metadata": {
        "colab": {
          "base_uri": "https://localhost:8080/",
          "height": 437
        },
        "id": "IhvsaVvdk78P",
        "outputId": "b8b43b27-6159-4b6a-fdfc-327a3034198a",
        "collapsed": true
      },
      "execution_count": 2,
      "outputs": [
        {
          "output_type": "display_data",
          "data": {
            "text/plain": [
              "<Figure size 480x480 with 1 Axes>"
            ],
            "image/png": "[encoded data removed]"
          },
          "metadata": {}
        }
      ]
    },
    {
      "cell_type": "code",
      "source": [
        "dir(digit)"
      ],
      "metadata": {
        "colab": {
          "base_uri": "https://localhost:8080/"
        },
        "id": "b6pEu74hgGwh",
        "outputId": "3443b506-637b-414f-9abb-5eb01d339a44",
        "collapsed": true
      },
      "execution_count": 3,
      "outputs": [
        {
          "output_type": "execute_result",
          "data": {
            "text/plain": [
              "['DESCR', 'data', 'feature_names', 'frame', 'images', 'target', 'target_names']"
            ]
          },
          "metadata": {},
          "execution_count": 3
        }
      ]
    },
    {
      "cell_type": "code",
      "source": [
        "type(digit.images)"
      ],
      "metadata": {
        "colab": {
          "base_uri": "https://localhost:8080/"
        },
        "id": "yOzG2QsmgP-L",
        "outputId": "5d79bb45-c7b8-4a92-d36b-ac85228c2527"
      },
      "execution_count": 4,
      "outputs": [
        {
          "output_type": "execute_result",
          "data": {
            "text/plain": [
              "numpy.ndarray"
            ]
          },
          "metadata": {},
          "execution_count": 4
        }
      ]
    },
    {
      "cell_type": "code",
      "source": [
        "type(digit.data)"
      ],
      "metadata": {
        "colab": {
          "base_uri": "https://localhost:8080/"
        },
        "id": "MIfC3pyBgW05",
        "outputId": "3ffffab9-7dcc-41bf-b618-f10c954d0d0f"
      },
      "execution_count": 5,
      "outputs": [
        {
          "output_type": "execute_result",
          "data": {
            "text/plain": [
              "numpy.ndarray"
            ]
          },
          "metadata": {},
          "execution_count": 5
        }
      ]
    },
    {
      "cell_type": "code",
      "source": [
        "digit.data.shape"
      ],
      "metadata": {
        "colab": {
          "base_uri": "https://localhost:8080/"
        },
        "id": "HtW6id_EgY6x",
        "outputId": "4059bc58-ab59-4a96-c730-9a1bc9693640"
      },
      "execution_count": 6,
      "outputs": [
        {
          "output_type": "execute_result",
          "data": {
            "text/plain": [
              "(1797, 64)"
            ]
          },
          "metadata": {},
          "execution_count": 6
        }
      ]
    },
    {
      "cell_type": "code",
      "source": [
        "digit.images.shape"
      ],
      "metadata": {
        "colab": {
          "base_uri": "https://localhost:8080/"
        },
        "id": "c3Y3kBysgauD",
        "outputId": "313a7872-d47f-48df-dd5f-74f6b81211b2"
      },
      "execution_count": 7,
      "outputs": [
        {
          "output_type": "execute_result",
          "data": {
            "text/plain": [
              "(1797, 8, 8)"
            ]
          },
          "metadata": {},
          "execution_count": 7
        }
      ]
    },
    {
      "cell_type": "code",
      "source": [
        "a = digit.data.reshape(1797, 8, 8)\n",
        "b = digit.images"
      ],
      "metadata": {
        "id": "NNwlzksCgcF5"
      },
      "execution_count": 8,
      "outputs": []
    },
    {
      "cell_type": "code",
      "source": [
        "import numpy as np\n",
        "np.allclose(a, b)"
      ],
      "metadata": {
        "colab": {
          "base_uri": "https://localhost:8080/"
        },
        "id": "UkXH3mDmg1Z0",
        "outputId": "335e3dad-2191-404c-d0dd-a98b1524a250"
      },
      "execution_count": 9,
      "outputs": [
        {
          "output_type": "execute_result",
          "data": {
            "text/plain": [
              "True"
            ]
          },
          "metadata": {},
          "execution_count": 9
        }
      ]
    },
    {
      "cell_type": "code",
      "source": [
        "plt.matshow(digit.data.reshape(1797, 8, 8)[0])\n",
        "plt.show()"
      ],
      "metadata": {
        "colab": {
          "base_uri": "https://localhost:8080/",
          "height": 437
        },
        "id": "Xd546kSkg6DI",
        "outputId": "38f9df68-d81e-4424-9526-56626defc2fb"
      },
      "execution_count": 10,
      "outputs": [
        {
          "output_type": "display_data",
          "data": {
            "text/plain": [
              "<Figure size 480x480 with 1 Axes>"
            ],
            "image/png": "[encoded data removed]"
          },
          "metadata": {}
        }
      ]
    },
    {
      "cell_type": "code",
      "source": [
        "plt.matshow(digit.images[8])\n",
        "plt.show()"
      ],
      "metadata": {
        "colab": {
          "base_uri": "https://localhost:8080/",
          "height": 437
        },
        "id": "rU5tBUinh4nv",
        "outputId": "7dd4952b-a3c4-45ac-dd89-cc8384a689ed"
      },
      "execution_count": 11,
      "outputs": [
        {
          "output_type": "display_data",
          "data": {
            "text/plain": [
              "<Figure size 480x480 with 1 Axes>"
            ],
            "image/png": "[encoded data removed]"
          },
          "metadata": {}
        }
      ]
    },
    {
      "cell_type": "code",
      "source": [
        "plt.matshow(digit.images[1796])\n",
        "plt.show()"
      ],
      "metadata": {
        "colab": {
          "base_uri": "https://localhost:8080/",
          "height": 437
        },
        "id": "gVWK89T7iCWn",
        "outputId": "6657c2e1-5c2d-4108-8f99-8878e1582dc4"
      },
      "execution_count": 12,
      "outputs": [
        {
          "output_type": "display_data",
          "data": {
            "text/plain": [
              "<Figure size 480x480 with 1 Axes>"
            ],
            "image/png": "[encoded data removed]"
          },
          "metadata": {}
        }
      ]
    },
    {
      "cell_type": "code",
      "source": [
        "digit.target[1796]"
      ],
      "metadata": {
        "colab": {
          "base_uri": "https://localhost:8080/"
        },
        "id": "8erHXZxOiKg2",
        "outputId": "47135ce1-5592-4e95-a273-ec3e768097a4"
      },
      "execution_count": 13,
      "outputs": [
        {
          "output_type": "execute_result",
          "data": {
            "text/plain": [
              "8"
            ]
          },
          "metadata": {},
          "execution_count": 13
        }
      ]
    },
    {
      "cell_type": "code",
      "source": [
        "digit.target[-1]"
      ],
      "metadata": {
        "colab": {
          "base_uri": "https://localhost:8080/"
        },
        "id": "HM4EqmaaiQyk",
        "outputId": "c6cf0b1c-2315-4a8c-a273-5c2dde6a6f98"
      },
      "execution_count": 14,
      "outputs": [
        {
          "output_type": "execute_result",
          "data": {
            "text/plain": [
              "8"
            ]
          },
          "metadata": {},
          "execution_count": 14
        }
      ]
    },
    {
      "cell_type": "markdown",
      "source": [
        "# 실습 7. 전결합형(Fully conneded) 신경망"
      ],
      "metadata": {
        "id": "LnrDSWcpicL0"
      }
    },
    {
      "cell_type": "code",
      "source": [
        "import torch.nn as nn\n",
        "\n",
        "# 신경망 정의\n",
        "class SimpleNN(nn.Module):\n",
        "  def __init__(self, input_size, output_size):\n",
        "    super(SimpleNN, self).__init__()\n",
        "    self.fc = nn.Linear(input_size, output_size)\n",
        "\n",
        "  def forward(self, x):\n",
        "    x = self.fc(x)\n",
        "    return x"
      ],
      "metadata": {
        "id": "tgrOt4MciYzh"
      },
      "execution_count": 15,
      "outputs": []
    },
    {
      "cell_type": "markdown",
      "source": [
        "# 실습 8. 학습 전 추론: 더미 데이터"
      ],
      "metadata": {
        "id": "RP_smuoFlyBT"
      }
    },
    {
      "cell_type": "code",
      "source": [
        "digit.data.shape"
      ],
      "metadata": {
        "colab": {
          "base_uri": "https://localhost:8080/"
        },
        "id": "jHdifnGjl4Or",
        "outputId": "b69f393d-426b-4c79-980c-6babe8e2572b"
      },
      "execution_count": 16,
      "outputs": [
        {
          "output_type": "execute_result",
          "data": {
            "text/plain": [
              "(1797, 64)"
            ]
          },
          "metadata": {},
          "execution_count": 16
        }
      ]
    },
    {
      "cell_type": "code",
      "source": [
        "import numpy as np\n",
        "import torch\n",
        "x = torch.tensor(np.random.rand(64), dtype=torch.float32)\n",
        "\n",
        "print(x.shape)\n",
        "print(x.dtype)"
      ],
      "metadata": {
        "colab": {
          "base_uri": "https://localhost:8080/"
        },
        "id": "S2gYeEY7l7a_",
        "outputId": "5540867d-7349-4f36-a22f-b03df2dff0d1"
      },
      "execution_count": 17,
      "outputs": [
        {
          "output_type": "stream",
          "name": "stdout",
          "text": [
            "torch.Size([64])\n",
            "torch.float32\n"
          ]
        }
      ]
    },
    {
      "cell_type": "code",
      "source": [
        "model = SimpleNN(64, 10)\n",
        "model"
      ],
      "metadata": {
        "colab": {
          "base_uri": "https://localhost:8080/"
        },
        "id": "76hhtKoDmBfa",
        "outputId": "db8009cf-0d44-4cc3-a9f9-0b98ba6d5b78"
      },
      "execution_count": 18,
      "outputs": [
        {
          "output_type": "execute_result",
          "data": {
            "text/plain": [
              "SimpleNN(\n",
              "  (fc): Linear(in_features=64, out_features=10, bias=True)\n",
              ")"
            ]
          },
          "metadata": {},
          "execution_count": 18
        }
      ]
    },
    {
      "cell_type": "code",
      "source": [
        "y = model.forward(x)\n",
        "y"
      ],
      "metadata": {
        "colab": {
          "base_uri": "https://localhost:8080/"
        },
        "id": "Xdgi3ZwomOQ7",
        "outputId": "10cc0d5a-ad5c-40e0-b38a-4e4b0cfd4732"
      },
      "execution_count": 19,
      "outputs": [
        {
          "output_type": "execute_result",
          "data": {
            "text/plain": [
              "tensor([ 0.0713, -0.0960, -0.3639,  0.0639, -0.2318, -0.0518,  0.3841,  0.6059,\n",
              "        -0.1343,  0.3850], grad_fn=<ViewBackward0>)"
            ]
          },
          "metadata": {},
          "execution_count": 19
        }
      ]
    },
    {
      "cell_type": "code",
      "source": [
        "print(torch.argmax(model.forward(x)).item())"
      ],
      "metadata": {
        "colab": {
          "base_uri": "https://localhost:8080/"
        },
        "id": "Tely1BIZmVVC",
        "outputId": "f5d400a3-ef7b-4623-8689-5618227bfa03"
      },
      "execution_count": 20,
      "outputs": [
        {
          "output_type": "stream",
          "name": "stdout",
          "text": [
            "7\n"
          ]
        }
      ]
    },
    {
      "cell_type": "markdown",
      "source": [
        "# 실습 9. 학습 전 추론: 테스트 데이터\n"
      ],
      "metadata": {
        "id": "6GcDB1SJmpoK"
      }
    },
    {
      "cell_type": "code",
      "source": [
        "digit.data[0]"
      ],
      "metadata": {
        "colab": {
          "base_uri": "https://localhost:8080/"
        },
        "id": "LFfM7CcEmj5G",
        "outputId": "3e90f8e6-8b4e-4804-ae17-e212f0fc5e00"
      },
      "execution_count": 21,
      "outputs": [
        {
          "output_type": "execute_result",
          "data": {
            "text/plain": [
              "array([ 0.,  0.,  5., 13.,  9.,  1.,  0.,  0.,  0.,  0., 13., 15., 10.,\n",
              "       15.,  5.,  0.,  0.,  3., 15.,  2.,  0., 11.,  8.,  0.,  0.,  4.,\n",
              "       12.,  0.,  0.,  8.,  8.,  0.,  0.,  5.,  8.,  0.,  0.,  9.,  8.,\n",
              "        0.,  0.,  4., 11.,  0.,  1., 12.,  7.,  0.,  0.,  2., 14.,  5.,\n",
              "       10., 12.,  0.,  0.,  0.,  0.,  6., 13., 10.,  0.,  0.,  0.])"
            ]
          },
          "metadata": {},
          "execution_count": 21
        }
      ]
    },
    {
      "cell_type": "code",
      "source": [
        "digit.target[0]"
      ],
      "metadata": {
        "colab": {
          "base_uri": "https://localhost:8080/"
        },
        "id": "s-ATSK7fm4Bn",
        "outputId": "52722264-c5e7-47ec-9f70-0f6c4ce02c4a"
      },
      "execution_count": 22,
      "outputs": [
        {
          "output_type": "execute_result",
          "data": {
            "text/plain": [
              "0"
            ]
          },
          "metadata": {},
          "execution_count": 22
        }
      ]
    },
    {
      "cell_type": "code",
      "source": [
        "import matplotlib.pyplot as plt\n",
        "plt.imshow(digit.images[0])"
      ],
      "metadata": {
        "colab": {
          "base_uri": "https://localhost:8080/",
          "height": 448
        },
        "id": "6xAmYf07m7dF",
        "outputId": "2b0b7c15-9c12-4812-d92f-5a5342a534a1"
      },
      "execution_count": 23,
      "outputs": [
        {
          "output_type": "execute_result",
          "data": {
            "text/plain": [
              "<matplotlib.image.AxesImage at 0x7eb3c713d300>"
            ]
          },
          "metadata": {},
          "execution_count": 23
        },
        {
          "output_type": "display_data",
          "data": {
            "text/plain": [
              "<Figure size 640x480 with 1 Axes>"
            ],
            "image/png": "[encoded data removed]"
          },
          "metadata": {}
        }
      ]
    },
    {
      "cell_type": "code",
      "source": [
        "digit.data[0].shape"
      ],
      "metadata": {
        "colab": {
          "base_uri": "https://localhost:8080/"
        },
        "id": "6Vv3xx0rm_zO",
        "outputId": "1fb8c2c7-e246-4bc6-ca5f-29a2f346845e"
      },
      "execution_count": 24,
      "outputs": [
        {
          "output_type": "execute_result",
          "data": {
            "text/plain": [
              "(64,)"
            ]
          },
          "metadata": {},
          "execution_count": 24
        }
      ]
    },
    {
      "cell_type": "code",
      "source": [
        "digit.data[0].dtype"
      ],
      "metadata": {
        "colab": {
          "base_uri": "https://localhost:8080/"
        },
        "id": "3hDT4xFunFcf",
        "outputId": "cd7cbdb3-ee9f-426b-89f9-8a5ec2aa17f2"
      },
      "execution_count": 25,
      "outputs": [
        {
          "output_type": "execute_result",
          "data": {
            "text/plain": [
              "dtype('float64')"
            ]
          },
          "metadata": {},
          "execution_count": 25
        }
      ]
    },
    {
      "cell_type": "code",
      "source": [
        "x0 = torch.tensor(digit.data[0], dtype=torch.float32)\n",
        "print(x0.dtype)"
      ],
      "metadata": {
        "colab": {
          "base_uri": "https://localhost:8080/"
        },
        "id": "XKbimaiunIFG",
        "outputId": "ee44e19b-11ed-411e-fdd4-7a3d0d52985d"
      },
      "execution_count": 26,
      "outputs": [
        {
          "output_type": "stream",
          "name": "stdout",
          "text": [
            "torch.float32\n"
          ]
        }
      ]
    },
    {
      "cell_type": "code",
      "source": [
        "torch.argmax(model(x0)).item()"
      ],
      "metadata": {
        "colab": {
          "base_uri": "https://localhost:8080/"
        },
        "id": "ilgu_trNnlYx",
        "outputId": "4a2241c4-8d62-47d7-e387-5f0759de07d1"
      },
      "execution_count": 27,
      "outputs": [
        {
          "output_type": "execute_result",
          "data": {
            "text/plain": [
              "5"
            ]
          },
          "metadata": {},
          "execution_count": 27
        }
      ]
    },
    {
      "cell_type": "code",
      "source": [
        "x1 = torch.tensor(digit.data[1], dtype=torch.float32)\n",
        "print(f\"answer: {digit.target[1]}\")\n",
        "print(f\"predicted: {torch.argmax(model(x1)).item()}\")"
      ],
      "metadata": {
        "colab": {
          "base_uri": "https://localhost:8080/"
        },
        "id": "0jL_bSx3nsys",
        "outputId": "b29aa7b6-9c51-4250-f8dd-564ace7797af"
      },
      "execution_count": 28,
      "outputs": [
        {
          "output_type": "stream",
          "name": "stdout",
          "text": [
            "answer: 1\n",
            "predicted: 7\n"
          ]
        }
      ]
    },
    {
      "cell_type": "code",
      "source": [],
      "metadata": {
        "id": "kI0i-kBqn0C3"
      },
      "execution_count": null,
      "outputs": []
    },
    {
      "cell_type": "markdown",
      "source": [
        "# 실습 10. 전처리: 데이터 정규화"
      ],
      "metadata": {
        "id": "daprFnqln44B"
      }
    },
    {
      "cell_type": "code",
      "source": [
        "from sklearn.preprocessing import StandardScaler\n",
        "X = digit.data\n",
        "y = digit.target\n",
        "\n",
        "scaler = StandardScaler()\n",
        "X_scaled = scaler.fit_transform(X)\n",
        "X_scaled"
      ],
      "metadata": {
        "colab": {
          "base_uri": "https://localhost:8080/"
        },
        "id": "5oiuNcHroAIo",
        "outputId": "3f49543d-4b9a-4471-ab19-4578943c6a28"
      },
      "execution_count": 29,
      "outputs": [
        {
          "output_type": "execute_result",
          "data": {
            "text/plain": [
              "array([[ 0.        , -0.33501649, -0.04308102, ..., -1.14664746,\n",
              "        -0.5056698 , -0.19600752],\n",
              "       [ 0.        , -0.33501649, -1.09493684, ...,  0.54856067,\n",
              "        -0.5056698 , -0.19600752],\n",
              "       [ 0.        , -0.33501649, -1.09493684, ...,  1.56568555,\n",
              "         1.6951369 , -0.19600752],\n",
              "       ...,\n",
              "       [ 0.        , -0.33501649, -0.88456568, ..., -0.12952258,\n",
              "        -0.5056698 , -0.19600752],\n",
              "       [ 0.        , -0.33501649, -0.67419451, ...,  0.8876023 ,\n",
              "        -0.5056698 , -0.19600752],\n",
              "       [ 0.        , -0.33501649,  1.00877481, ...,  0.8876023 ,\n",
              "        -0.26113572, -0.19600752]])"
            ]
          },
          "metadata": {},
          "execution_count": 29
        }
      ]
    },
    {
      "cell_type": "code",
      "source": [
        "data = np.array([[1, 2, 3], [4, 5, 6]])\n",
        "\n",
        "scaler = StandardScaler()\n",
        "data_norm = scaler.fit_transform(data)\n",
        "\n",
        "print(data_norm)"
      ],
      "metadata": {
        "colab": {
          "base_uri": "https://localhost:8080/"
        },
        "id": "Ua8aAhs-oKV3",
        "outputId": "250b52f9-5e08-468d-b9dc-06a25088f12c"
      },
      "execution_count": 30,
      "outputs": [
        {
          "output_type": "stream",
          "name": "stdout",
          "text": [
            "[[-1. -1. -1.]\n",
            " [ 1.  1.  1.]]\n"
          ]
        }
      ]
    },
    {
      "cell_type": "code",
      "source": [
        "print(data_norm.mean()) # 정규화된 데이터의 평균\n",
        "print(data_norm.var())  # 정규화된 데이터의 분산"
      ],
      "metadata": {
        "colab": {
          "base_uri": "https://localhost:8080/"
        },
        "id": "8K3nqTt7yTBY",
        "outputId": "15e2edfe-d330-494d-ff11-7623814e92ae"
      },
      "execution_count": 31,
      "outputs": [
        {
          "output_type": "stream",
          "name": "stdout",
          "text": [
            "0.0\n",
            "1.0\n"
          ]
        }
      ]
    },
    {
      "cell_type": "markdown",
      "source": [
        "# 실습 11. 학습 및 테스트 데이터 분할"
      ],
      "metadata": {
        "id": "vLcB2g7WpURp"
      }
    },
    {
      "cell_type": "code",
      "source": [
        "from sklearn.model_selection import train_test_split\n",
        "X_train, X_test, y_train, y_test = train_test_split(\n",
        "    X_scaled, y, test_size=0.2,random_state=42)\n",
        "print(len(X_train))\n",
        "print(len(X_test))\n",
        "print(len(X_test)/(len(X_train)+len(X_test)))"
      ],
      "metadata": {
        "colab": {
          "base_uri": "https://localhost:8080/"
        },
        "id": "N7fLgdu5pZ7U",
        "outputId": "77e2b03f-0e84-45c4-967f-70280377911b"
      },
      "execution_count": 32,
      "outputs": [
        {
          "output_type": "stream",
          "name": "stdout",
          "text": [
            "1437\n",
            "360\n",
            "0.2003338898163606\n"
          ]
        }
      ]
    },
    {
      "cell_type": "markdown",
      "source": [
        "# 실습 12. 신경망 학습"
      ],
      "metadata": {
        "id": "DwhKAGMz2MrN"
      }
    },
    {
      "cell_type": "code",
      "source": [
        "import torch.optim as optim\n",
        "\n",
        "# 파이토치 텐서로 변환\n",
        "X_train = torch.tensor(X_train, dtype=torch.float32)\n",
        "X_test = torch.tensor(X_test, dtype=torch.float32)\n",
        "\n",
        "y_train = torch.tensor(y_train, dtype=torch.long)\n",
        "y_test = torch.tensor(y_test, dtype=torch.long)\n",
        "\n",
        "# 손실함수 및 최적화 기법 정의\n",
        "criterion = nn.CrossEntropyLoss()\n",
        "optimizer = optim.SGD(model.parameters(), lr=0.01)\n",
        "\n",
        "# 모델 학습\n",
        "num_epochs = 100\n",
        "for epoch in range(num_epochs):\n",
        "  optimizer.zero_grad()\n",
        "  outputs = model(X_train)\n",
        "  loss = criterion(outputs, y_train)\n",
        "  loss.backward()\n",
        "  optimizer.step()"
      ],
      "metadata": {
        "id": "ffkuzOM5pqCs"
      },
      "execution_count": 33,
      "outputs": []
    },
    {
      "cell_type": "markdown",
      "source": [
        "# 실습 13. 성과 평가"
      ],
      "metadata": {
        "id": "RujvtyyFqXMi"
      }
    },
    {
      "cell_type": "code",
      "source": [
        "from sklearn.metrics import accuracy_score\n",
        "\n",
        "# 모델의 평가\n",
        "with torch.no_grad():\n",
        "  outputs = model(X_test)\n",
        "  _, predicted = torch.max(outputs, 1)\n",
        "\n",
        "  # Convert y_test to NumPy array\n",
        "  accuracy = accuracy_score(y_test.cpu().numpy(), predicted.cpu().numpy())\n",
        "  print(\"Test accuracy:\", accuracy)"
      ],
      "metadata": {
        "colab": {
          "base_uri": "https://localhost:8080/"
        },
        "id": "scLJKmZfqd-8",
        "outputId": "6ab287ca-d9aa-4b1b-a9c3-b138808e3b73"
      },
      "execution_count": 35,
      "outputs": [
        {
          "output_type": "stream",
          "name": "stdout",
          "text": [
            "Test accuracy: 0.775\n"
          ]
        }
      ]
    },
    {
      "cell_type": "code",
      "source": [
        "outputs = model(X_test)\n",
        "print(f\"입력 데이터 형태:{X_test.shape}\")\n",
        "print(f\"출력 데이터 형태:{outputs.shape}\")\n",
        "print(f\"출력:{outputs}\")"
      ],
      "metadata": {
        "colab": {
          "base_uri": "https://localhost:8080/"
        },
        "id": "RuGORUNqqwW8",
        "outputId": "d5b7fff0-bd86-44b4-cf8f-dab3231d7d4c"
      },
      "execution_count": null,
      "outputs": [
        {
          "output_type": "stream",
          "name": "stdout",
          "text": [
            "입력 데이터 형태:torch.Size([360, 64])\n",
            "출력 데이터 형태:torch.Size([360, 10])\n",
            "출력:tensor([[-0.3715,  0.5032, -0.2182,  ..., -0.5803,  0.2889,  0.2667],\n",
            "        [-0.1018, -0.5505,  0.6350,  ...,  0.0036, -1.0563,  0.9043],\n",
            "        [-0.4528,  0.1061,  0.1469,  ..., -0.2994,  0.0301,  0.6551],\n",
            "        ...,\n",
            "        [ 0.3131, -0.1026, -0.2545,  ...,  0.5422,  0.0375,  0.3093],\n",
            "        [ 0.0573, -0.8106,  1.3097,  ..., -0.2010, -0.4647,  0.5516],\n",
            "        [-0.1291, -0.9546,  0.7928,  ..., -0.8253, -1.0754,  1.1071]],\n",
            "       grad_fn=<AddmmBackward0>)\n"
          ]
        }
      ]
    },
    {
      "cell_type": "code",
      "source": [
        "# 이걸 실행하면 코랩 오른쪽 화면에 도움말이 생성됨\n",
        "torch.max?"
      ],
      "metadata": {
        "id": "EcF9-HCerFJI"
      },
      "execution_count": 36,
      "outputs": []
    },
    {
      "cell_type": "code",
      "source": [
        "torch.allclose(predicted, torch.argmax(outputs, dim=1))"
      ],
      "metadata": {
        "colab": {
          "base_uri": "https://localhost:8080/"
        },
        "id": "6Scsr9DfrNb2",
        "outputId": "0dd20cde-6cfb-4b0a-dbbb-e2f011bd328d"
      },
      "execution_count": 37,
      "outputs": [
        {
          "output_type": "execute_result",
          "data": {
            "text/plain": [
              "True"
            ]
          },
          "metadata": {},
          "execution_count": 37
        }
      ]
    },
    {
      "cell_type": "markdown",
      "source": [
        "# 실습 14. 추론 및 시각화"
      ],
      "metadata": {
        "id": "P9AveOngsJov"
      }
    },
    {
      "cell_type": "code",
      "source": [
        "# 모델로 테스트 데이터 1 건 추론\n",
        "import random\n",
        "\n",
        "idx = random.randint(0, len(X_test)-1)\n",
        "outputs = model(X_test[idx])\n",
        "ans = y_test[idx].item()\n",
        "pred = torch.argmax(outputs).item()\n",
        "\n",
        "print(f\"정답: {ans}\")\n",
        "print(f\"예측값: {pred}\")\n",
        "print(f\"결과:{ans==pred}\")"
      ],
      "metadata": {
        "colab": {
          "base_uri": "https://localhost:8080/"
        },
        "id": "czHv5LJzsRhi",
        "outputId": "97ecdf16-ae1f-45ab-da30-d138155bba1c"
      },
      "execution_count": 38,
      "outputs": [
        {
          "output_type": "stream",
          "name": "stdout",
          "text": [
            "정답: 6\n",
            "예측값: 6\n",
            "결과:True\n"
          ]
        }
      ]
    },
    {
      "cell_type": "code",
      "source": [
        "plt.matshow(X_test[idx].reshape(8,8))"
      ],
      "metadata": {
        "colab": {
          "base_uri": "https://localhost:8080/",
          "height": 455
        },
        "id": "NuGX--rGsaLt",
        "outputId": "bc242089-3817-4773-c5a5-04bcc6a57063"
      },
      "execution_count": 39,
      "outputs": [
        {
          "output_type": "execute_result",
          "data": {
            "text/plain": [
              "<matplotlib.image.AxesImage at 0x7eb3c4e4e170>"
            ]
          },
          "metadata": {},
          "execution_count": 39
        },
        {
          "output_type": "display_data",
          "data": {
            "text/plain": [
              "<Figure size 480x480 with 1 Axes>"
            ],
            "image/png": "[encoded data removed]"
          },
          "metadata": {}
        }
      ]
    },
    {
      "cell_type": "code",
      "source": [
        "random.randint?"
      ],
      "metadata": {
        "id": "4TarPyrMtYYC"
      },
      "execution_count": 40,
      "outputs": []
    }
  ]
}